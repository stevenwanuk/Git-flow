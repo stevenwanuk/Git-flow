{
 "cells": [
  {
   "cell_type": "markdown",
   "metadata": {
    "deletable": true,
    "editable": true
   },
   "source": [
    "# Git Flow - Documentation \n",
    "\n",
    "### Create Release branch (Non hotfix)"
   ]
  },
  {
   "cell_type": "code",
   "execution_count": null,
   "metadata": {
    "collapsed": true
   },
   "outputs": [],
   "source": [
    "1 - Create work branch from Develop (use ticket name)\n",
    "\n",
    "# git checkout develop\n",
    "# git pull origin develop\n",
    "# git checkout -b BESTPRAC-01"
   ]
  },
  {
   "cell_type": "code",
   "execution_count": null,
   "metadata": {
    "collapsed": true
   },
   "outputs": [],
   "source": [
    "2 - Pull request to Develop"
   ]
  },
  {
   "cell_type": "code",
   "execution_count": null,
   "metadata": {
    "collapsed": true
   },
   "outputs": [],
   "source": [
    "3 - Create release branch from Develop\n",
    "\n",
    "# git checkout develop\n",
    "# git pull origin develop\n",
    "# git checkout -b release_v1"
   ]
  },
  {
   "cell_type": "code",
   "execution_count": null,
   "metadata": {
    "collapsed": true
   },
   "outputs": [],
   "source": [
    "4 - Update version number on release branch"
   ]
  },
  {
   "cell_type": "code",
   "execution_count": null,
   "metadata": {
    "collapsed": true
   },
   "outputs": [],
   "source": [
    "5 - Build from the release branch"
   ]
  },
  {
   "cell_type": "code",
   "execution_count": null,
   "metadata": {
    "collapsed": true
   },
   "outputs": [],
   "source": [
    "6 - Update master and develop branch\n",
    "\n",
    "# git pull origin develop (you can skip the branch name if you have set the upstream [git 2.0 +])\n",
    "# git checkout develop\n",
    "# git merge release-v1\n",
    "# git push origin develop (you can skip the branch name if you have set the upstream [git 2.0 +])\n",
    "\n",
    "# git pull \n",
    "# git checkout master\n",
    "# git merge release-v1\n",
    "# git push"
   ]
  },
  {
   "cell_type": "code",
   "execution_count": null,
   "metadata": {
    "collapsed": true
   },
   "outputs": [],
   "source": [
    "7 - Create tag\n",
    "\n",
    "# git checkout master\n",
    "# git tag v1\n",
    "# git push -u origin v1"
   ]
  },
  {
   "cell_type": "markdown",
   "metadata": {
    "deletable": true,
    "editable": true
   },
   "source": [
    "# Git Flow - Documentation \n",
    "\n",
    "### Create hotfix branch"
   ]
  },
  {
   "cell_type": "code",
   "execution_count": null,
   "metadata": {
    "collapsed": true
   },
   "outputs": [],
   "source": [
    "1 - Create work branch from Master (use ticket name)\n",
    "\n",
    "# git checkout master\n",
    "# git pull origin master\n",
    "# git checkout -b BESTPRAC-01"
   ]
  },
  {
   "cell_type": "code",
   "execution_count": null,
   "metadata": {
    "collapsed": true
   },
   "outputs": [],
   "source": [
    "2 - Pull request to Master"
   ]
  },
  {
   "cell_type": "code",
   "execution_count": null,
   "metadata": {
    "collapsed": true
   },
   "outputs": [],
   "source": [
    "3 - Create hotfix branch from Master\n",
    "\n",
    "# git checkout master\n",
    "# git pull origin master\n",
    "# git checkout -b hotfix_v1"
   ]
  },
  {
   "cell_type": "code",
   "execution_count": null,
   "metadata": {
    "collapsed": true
   },
   "outputs": [],
   "source": [
    "4 - Update version number on release branch"
   ]
  },
  {
   "cell_type": "code",
   "execution_count": null,
   "metadata": {
    "collapsed": true
   },
   "outputs": [],
   "source": [
    "5 - Build from the release branch"
   ]
  },
  {
   "cell_type": "code",
   "execution_count": null,
   "metadata": {
    "collapsed": true
   },
   "outputs": [],
   "source": [
    "6 - Update master and develop branch\n",
    "\n",
    "# git pull origin develop (you can skip the branch name if you have set the upstream [git 2.0 +])\n",
    "# git checkout develop\n",
    "# git merge release-v1\n",
    "# git push origin develop (you can skip the branch name if you have set the upstream [git 2.0 +])\n",
    "\n",
    "# git pull \n",
    "# git checkout master\n",
    "# git merge release-v1\n",
    "# git push"
   ]
  },
  {
   "cell_type": "code",
   "execution_count": null,
   "metadata": {
    "collapsed": true
   },
   "outputs": [],
   "source": [
    "7 - Create tag\n",
    "\n",
    "# git checkout master\n",
    "# git tag v1\n",
    "# git push -u origin v1"
   ]
  }
 ],
 "metadata": {
  "kernelspec": {
   "display_name": "Python 2",
   "language": "python",
   "name": "python2"
  },
  "language_info": {
   "codemirror_mode": {
    "name": "ipython",
    "version": 2
   },
   "file_extension": ".py",
   "mimetype": "text/x-python",
   "name": "python",
   "nbconvert_exporter": "python",
   "pygments_lexer": "ipython2",
   "version": "2.7.12"
  }
 },
 "nbformat": 4,
 "nbformat_minor": 2
}
